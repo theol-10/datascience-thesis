{
 "cells": [
  {
   "cell_type": "code",
   "execution_count": 1,
   "id": "8666b557-c29a-48d0-9fde-4884eee2ce59",
   "metadata": {},
   "outputs": [
    {
     "data": {
      "text/html": [
       "<div>\n",
       "<style scoped>\n",
       "    .dataframe tbody tr th:only-of-type {\n",
       "        vertical-align: middle;\n",
       "    }\n",
       "\n",
       "    .dataframe tbody tr th {\n",
       "        vertical-align: top;\n",
       "    }\n",
       "\n",
       "    .dataframe thead th {\n",
       "        text-align: right;\n",
       "    }\n",
       "</style>\n",
       "<table border=\"1\" class=\"dataframe\">\n",
       "  <thead>\n",
       "    <tr style=\"text-align: right;\">\n",
       "      <th></th>\n",
       "      <th>road</th>\n",
       "      <th>status</th>\n",
       "      <th>description</th>\n",
       "      <th>timestamp</th>\n",
       "    </tr>\n",
       "  </thead>\n",
       "  <tbody>\n",
       "    <tr>\n",
       "      <th>0</th>\n",
       "      <td>A13</td>\n",
       "      <td>Good</td>\n",
       "      <td>No Exceptional Delays</td>\n",
       "      <td>2025-05-05T14:55:27.111477</td>\n",
       "    </tr>\n",
       "    <tr>\n",
       "      <th>1</th>\n",
       "      <td>A2</td>\n",
       "      <td>Good</td>\n",
       "      <td>No Exceptional Delays</td>\n",
       "      <td>2025-05-05T14:55:27.111484</td>\n",
       "    </tr>\n",
       "    <tr>\n",
       "      <th>2</th>\n",
       "      <td>North Circular (A406)</td>\n",
       "      <td>Good</td>\n",
       "      <td>No Exceptional Delays</td>\n",
       "      <td>2025-05-05T14:55:27.111486</td>\n",
       "    </tr>\n",
       "  </tbody>\n",
       "</table>\n",
       "</div>"
      ],
      "text/plain": [
       "                    road status            description  \\\n",
       "0                    A13   Good  No Exceptional Delays   \n",
       "1                     A2   Good  No Exceptional Delays   \n",
       "2  North Circular (A406)   Good  No Exceptional Delays   \n",
       "\n",
       "                    timestamp  \n",
       "0  2025-05-05T14:55:27.111477  \n",
       "1  2025-05-05T14:55:27.111484  \n",
       "2  2025-05-05T14:55:27.111486  "
      ]
     },
     "execution_count": 1,
     "metadata": {},
     "output_type": "execute_result"
    }
   ],
   "source": [
    "import pandas as pd\n",
    "\n",
    "# Load the CSV\n",
    "df = pd.read_csv(\"../data/tfl_road_status.csv\")\n",
    "\n",
    "# Show the first few rows\n",
    "df.head()"
   ]
  },
  {
   "cell_type": "code",
   "execution_count": 2,
   "id": "978e0b13-7a55-402a-b69d-ac7249b73cad",
   "metadata": {},
   "outputs": [
    {
     "name": "stdout",
     "output_type": "stream",
     "text": [
      "<class 'pandas.core.frame.DataFrame'>\n",
      "RangeIndex: 3 entries, 0 to 2\n",
      "Data columns (total 4 columns):\n",
      " #   Column       Non-Null Count  Dtype         \n",
      "---  ------       --------------  -----         \n",
      " 0   road         3 non-null      object        \n",
      " 1   status       3 non-null      object        \n",
      " 2   description  3 non-null      object        \n",
      " 3   timestamp    3 non-null      datetime64[ns]\n",
      "dtypes: datetime64[ns](1), object(3)\n",
      "memory usage: 224.0+ bytes\n"
     ]
    }
   ],
   "source": [
    "df['timestamp'] = pd.to_datetime(df['timestamp'])\n",
    "df.info()"
   ]
  },
  {
   "cell_type": "code",
   "execution_count": 3,
   "id": "fc152730-b2d8-4ab4-bca4-7c194c8fba06",
   "metadata": {},
   "outputs": [
    {
     "data": {
      "text/plain": [
       "status\n",
       "Good    3\n",
       "Name: count, dtype: int64"
      ]
     },
     "execution_count": 3,
     "metadata": {},
     "output_type": "execute_result"
    }
   ],
   "source": [
    "df['status'].value_counts()\n"
   ]
  },
  {
   "cell_type": "code",
   "execution_count": 4,
   "id": "6d3a7370-8707-483d-ab7f-7b10512baf43",
   "metadata": {},
   "outputs": [
    {
     "data": {
      "text/plain": [
       "description\n",
       "No Exceptional Delays    3\n",
       "Name: count, dtype: int64"
      ]
     },
     "execution_count": 4,
     "metadata": {},
     "output_type": "execute_result"
    }
   ],
   "source": [
    "df['description'].value_counts()\n"
   ]
  },
  {
   "cell_type": "code",
   "execution_count": 5,
   "id": "e5e543be-f889-476a-8cdb-5dee40cceddc",
   "metadata": {},
   "outputs": [
    {
     "name": "stderr",
     "output_type": "stream",
     "text": [
      "/var/folders/ng/1q_6q8_n1fx35q947ctj0w1m0000gn/T/ipykernel_6088/624543916.py:4: FutureWarning: 'H' is deprecated and will be removed in a future version, please use 'h' instead.\n",
      "  df.set_index('timestamp').resample('H').size().plot(figsize=(12, 4), title=\"Number of Traffic Samples Per Hour\")\n",
      "/opt/anaconda3/lib/python3.9/site-packages/pandas/plotting/_matplotlib/core.py:1567: UserWarning: Attempting to set identical low and high xlims makes transformation singular; automatically expanding.\n",
      "  ax.set_xlim(left, right)\n"
     ]
    },
    {
     "data": {
      "image/png": "[encoded data removed]",
      "text/plain": [
       "<Figure size 1200x400 with 1 Axes>"
      ]
     },
     "metadata": {},
     "output_type": "display_data"
    }
   ],
   "source": [
    "import matplotlib.pyplot as plt\n",
    "\n",
    "# Number of rows collected over time\n",
    "df.set_index('timestamp').resample('H').size().plot(figsize=(12, 4), title=\"Number of Traffic Samples Per Hour\")\n",
    "plt.xlabel(\"Time\")\n",
    "plt.ylabel(\"Samples\")\n",
    "plt.show()\n"
   ]
  },
  {
   "cell_type": "code",
   "execution_count": 6,
   "id": "a58015d4-6adb-44fa-9fcd-42701f9eacd7",
   "metadata": {},
   "outputs": [
    {
     "data": {
      "text/html": [
       "<div>\n",
       "<style scoped>\n",
       "    .dataframe tbody tr th:only-of-type {\n",
       "        vertical-align: middle;\n",
       "    }\n",
       "\n",
       "    .dataframe tbody tr th {\n",
       "        vertical-align: top;\n",
       "    }\n",
       "\n",
       "    .dataframe thead th {\n",
       "        text-align: right;\n",
       "    }\n",
       "</style>\n",
       "<table border=\"1\" class=\"dataframe\">\n",
       "  <thead>\n",
       "    <tr style=\"text-align: right;\">\n",
       "      <th>road</th>\n",
       "      <th>A13</th>\n",
       "      <th>A2</th>\n",
       "      <th>North Circular (A406)</th>\n",
       "    </tr>\n",
       "    <tr>\n",
       "      <th>timestamp</th>\n",
       "      <th></th>\n",
       "      <th></th>\n",
       "      <th></th>\n",
       "    </tr>\n",
       "  </thead>\n",
       "  <tbody>\n",
       "    <tr>\n",
       "      <th>2025-05-05 14:55:27.111477</th>\n",
       "      <td>Good</td>\n",
       "      <td>NaN</td>\n",
       "      <td>NaN</td>\n",
       "    </tr>\n",
       "    <tr>\n",
       "      <th>2025-05-05 14:55:27.111484</th>\n",
       "      <td>NaN</td>\n",
       "      <td>Good</td>\n",
       "      <td>NaN</td>\n",
       "    </tr>\n",
       "    <tr>\n",
       "      <th>2025-05-05 14:55:27.111486</th>\n",
       "      <td>NaN</td>\n",
       "      <td>NaN</td>\n",
       "      <td>Good</td>\n",
       "    </tr>\n",
       "  </tbody>\n",
       "</table>\n",
       "</div>"
      ],
      "text/plain": [
       "road                         A13    A2 North Circular (A406)\n",
       "timestamp                                                   \n",
       "2025-05-05 14:55:27.111477  Good   NaN                   NaN\n",
       "2025-05-05 14:55:27.111484   NaN  Good                   NaN\n",
       "2025-05-05 14:55:27.111486   NaN   NaN                  Good"
      ]
     },
     "execution_count": 6,
     "metadata": {},
     "output_type": "execute_result"
    }
   ],
   "source": [
    "pivot = df.pivot_table(index='timestamp', columns='road', values='status', aggfunc='first')\n",
    "pivot.head()\n"
   ]
  },
  {
   "cell_type": "code",
   "execution_count": 7,
   "id": "ee2413eb-fd4e-4b4f-9e9d-dfe317400a21",
   "metadata": {},
   "outputs": [],
   "source": [
    "severity_map = {\n",
    "    'Good': 0,\n",
    "    'Minor Delays': 1,\n",
    "    'Serious Delays': 2,\n",
    "    'Severe Delays': 3,\n",
    "    'No Exceptional Delays': 0\n",
    "}\n",
    "df['severity_level'] = df['status'].map(severity_map)"
   ]
  },
  {
   "cell_type": "code",
   "execution_count": 8,
   "id": "f496e81f-f85c-4084-a40c-ef1ea6f71776",
   "metadata": {},
   "outputs": [],
   "source": [
    "df.to_csv(\"../data/cleaned_tfl_road_status.csv\", index=False)\n"
   ]
  },
  {
   "cell_type": "code",
   "execution_count": 10,
   "id": "d6dafe53-35f0-4944-9ebf-1eb3ad621dcc",
   "metadata": {},
   "outputs": [
    {
     "name": "stdout",
     "output_type": "stream",
     "text": [
      "Data info:\n",
      "<class 'pandas.core.frame.DataFrame'>\n",
      "RangeIndex: 3 entries, 0 to 2\n",
      "Data columns (total 4 columns):\n",
      " #   Column       Non-Null Count  Dtype         \n",
      "---  ------       --------------  -----         \n",
      " 0   road         3 non-null      object        \n",
      " 1   status       3 non-null      object        \n",
      " 2   description  3 non-null      object        \n",
      " 3   timestamp    3 non-null      datetime64[ns]\n",
      "dtypes: datetime64[ns](1), object(3)\n",
      "memory usage: 224.0+ bytes\n",
      "\n",
      "First few rows:\n",
      "                    road status            description  \\\n",
      "0                    A13   Good  No Exceptional Delays   \n",
      "1                     A2   Good  No Exceptional Delays   \n",
      "2  North Circular (A406)   Good  No Exceptional Delays   \n",
      "\n",
      "                   timestamp  \n",
      "0 2025-05-05 14:55:27.111477  \n",
      "1 2025-05-05 14:55:27.111484  \n",
      "2 2025-05-05 14:55:27.111486  \n",
      "\n",
      "Missing values:\n",
      "road           0\n",
      "status         0\n",
      "description    0\n",
      "timestamp      0\n",
      "dtype: int64\n",
      "\n",
      "Duplicates:\n",
      "0\n",
      "\n",
      "Road observation counts:\n",
      "road\n",
      "A13                      1\n",
      "A2                       1\n",
      "North Circular (A406)    1\n",
      "Name: count, dtype: int64\n"
     ]
    },
    {
     "data": {
      "image/png": "[encoded data removed]",
      "text/plain": [
       "<Figure size 640x480 with 1 Axes>"
      ]
     },
     "metadata": {},
     "output_type": "display_data"
    },
    {
     "data": {
      "text/plain": [
       "<Figure size 1200x600 with 0 Axes>"
      ]
     },
     "metadata": {},
     "output_type": "display_data"
    },
    {
     "data": {
      "image/png": "[encoded data removed]",
      "text/plain": [
       "<Figure size 640x480 with 1 Axes>"
      ]
     },
     "metadata": {},
     "output_type": "display_data"
    },
    {
     "data": {
      "text/plain": [
       "<Figure size 1200x600 with 0 Axes>"
      ]
     },
     "metadata": {},
     "output_type": "display_data"
    },
    {
     "data": {
      "image/png": "[encoded data removed]",
      "text/plain": [
       "<Figure size 1200x600 with 1 Axes>"
      ]
     },
     "metadata": {},
     "output_type": "display_data"
    },
    {
     "name": "stdout",
     "output_type": "stream",
     "text": [
      "✅ Cleaned data saved.\n"
     ]
    }
   ],
   "source": [
    "# 📦 Imports\n",
    "import pandas as pd\n",
    "import matplotlib.pyplot as plt\n",
    "import seaborn as sns\n",
    "\n",
    "# 🧪 Load the data\n",
    "df = pd.read_csv(\"../data/tfl_road_status.csv\")\n",
    "\n",
    "# 🧹 Convert timestamp column to datetime\n",
    "df['timestamp'] = pd.to_datetime(df['timestamp'])\n",
    "\n",
    "# 🔎 Inspect the data\n",
    "print(\"Data info:\")\n",
    "df.info()\n",
    "\n",
    "print(\"\\nFirst few rows:\")\n",
    "print(df.head())\n",
    "\n",
    "# 🧼 Check for missing values\n",
    "print(\"\\nMissing values:\")\n",
    "print(df.isnull().sum())\n",
    "\n",
    "# 🔁 Check for duplicates\n",
    "print(\"\\nDuplicates:\")\n",
    "print(df.duplicated().sum())\n",
    "\n",
    "# 🛣️ Count observations per road\n",
    "print(\"\\nRoad observation counts:\")\n",
    "print(df['road'].value_counts())\n",
    "\n",
    "# 📊 Traffic status distribution\n",
    "df['status'].value_counts().plot(kind='bar', title=\"Traffic Status Distribution\")\n",
    "plt.xlabel(\"Status\")\n",
    "plt.ylabel(\"Count\")\n",
    "plt.show()\n",
    "\n",
    "# 🕒 Extract time-based features\n",
    "df['hour'] = df['timestamp'].dt.hour\n",
    "df['weekday'] = df['timestamp'].dt.day_name()\n",
    "\n",
    "# 📈 Traffic status by hour of day\n",
    "plt.figure(figsize=(12, 6))\n",
    "df.groupby('hour')['status'].value_counts().unstack().plot(kind='bar', stacked=True)\n",
    "plt.title(\"Traffic Status by Hour of Day\")\n",
    "plt.ylabel(\"Count\")\n",
    "plt.xlabel(\"Hour\")\n",
    "plt.xticks(rotation=0)\n",
    "plt.show()\n",
    "\n",
    "# 📈 Traffic status by day of week\n",
    "plt.figure(figsize=(12, 6))\n",
    "df.groupby('weekday')['status'].value_counts().unstack().plot(\n",
    "    kind='bar', stacked=True, figsize=(12, 6)\n",
    ")\n",
    "\n",
    "plt.title(\"Traffic Status by Day of Week\")\n",
    "plt.ylabel(\"Count\")\n",
    "plt.xlabel(\"Weekday\")\n",
    "plt.xticks(rotation=45)\n",
    "plt.show()\n",
    "\n",
    "# 💡 Save a cleaned version with new columns\n",
    "df.to_csv(\"../data/cleaned_tfl_road_status.csv\", index=False)\n",
    "print(\"✅ Cleaned data saved.\")\n"
   ]
  },
  {
   "cell_type": "code",
   "execution_count": null,
   "id": "b4f74d2e-cc35-4912-9e94-307c6418b58b",
   "metadata": {},
   "outputs": [],
   "source": []
  }
 ],
 "metadata": {
  "kernelspec": {
   "display_name": "Python 3 (ipykernel)",
   "language": "python",
   "name": "python3"
  },
  "language_info": {
   "codemirror_mode": {
    "name": "ipython",
    "version": 3
   },
   "file_extension": ".py",
   "mimetype": "text/x-python",
   "name": "python",
   "nbconvert_exporter": "python",
   "pygments_lexer": "ipython3",
   "version": "3.9.21"
  }
 },
 "nbformat": 4,
 "nbformat_minor": 5
}
