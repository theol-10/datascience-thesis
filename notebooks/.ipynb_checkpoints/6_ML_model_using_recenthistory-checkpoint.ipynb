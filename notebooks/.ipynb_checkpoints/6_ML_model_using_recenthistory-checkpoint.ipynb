{
 "cells": [
  {
   "cell_type": "code",
   "execution_count": 1,
   "id": "f1407a7c-b5eb-45ad-a6a3-4cba5857995c",
   "metadata": {},
   "outputs": [],
   "source": [
    "import pandas as pd\n",
    "import numpy as np\n",
    "\n",
    "# Load dataset (ideally, cleaned with 'severity_level' already present)\n",
    "df = pd.read_csv(\"../data/engineered_traffic_data.csv\", parse_dates=['timestamp'])\n",
    "\n",
    "# Sort by road + timestamp\n",
    "df.sort_values(by=['road', 'timestamp'], inplace=True)\n"
   ]
  },
  {
   "cell_type": "code",
   "execution_count": 2,
   "id": "4e7113b2-8f36-4e86-84fb-719f7f28a36f",
   "metadata": {},
   "outputs": [],
   "source": [
    "# Create lagged features per road\n",
    "df['prev_1h_severity'] = df.groupby('road')['severity_level'].shift(1)\n",
    "df['prev_2h_severity'] = df.groupby('road')['severity_level'].shift(2)\n",
    "\n",
    "# Average of last 2 hours\n",
    "df['avg_severity_last_2h'] = df[['prev_1h_severity', 'prev_2h_severity']].mean(axis=1)\n"
   ]
  },
  {
   "cell_type": "code",
   "execution_count": 3,
   "id": "db6276dd-6594-4551-998b-865b14a3b0d5",
   "metadata": {},
   "outputs": [],
   "source": [
    "df.dropna(subset=['prev_1h_severity', 'prev_2h_severity'], inplace=True)\n"
   ]
  },
  {
   "cell_type": "code",
   "execution_count": 4,
   "id": "d47dcabf-8c30-47a5-81fb-b41132181978",
   "metadata": {},
   "outputs": [],
   "source": [
    "# Optional: Convert weekday and hour if not done already\n",
    "df['hour'] = pd.to_datetime(df['timestamp']).dt.hour\n",
    "df['weekday'] = pd.to_datetime(df['timestamp']).dt.dayofweek\n"
   ]
  },
  {
   "cell_type": "code",
   "execution_count": 5,
   "id": "1436fb26-98e9-4d24-8e15-4e9d1d61b63a",
   "metadata": {},
   "outputs": [],
   "source": [
    "# Select features and target\n",
    "features = ['hour', 'weekday', 'prev_1h_severity', 'prev_2h_severity', 'avg_severity_last_2h']\n",
    "X = df[features]\n",
    "y = df['severity_level']\n"
   ]
  },
  {
   "cell_type": "code",
   "execution_count": 6,
   "id": "342f5aa2-5230-4102-933e-058da1577d85",
   "metadata": {},
   "outputs": [],
   "source": [
    "from sklearn.model_selection import train_test_split\n",
    "from sklearn.ensemble import RandomForestClassifier\n",
    "from sklearn.metrics import classification_report, confusion_matrix, accuracy_score\n",
    "\n",
    "# Train/test split\n",
    "X_train, X_test, y_train, y_test = train_test_split(\n",
    "    X, y, test_size=0.2, random_state=42, stratify=y\n",
    ")\n",
    "\n",
    "# Train Random Forest\n",
    "model = RandomForestClassifier(n_estimators=100, max_depth=15, random_state=42)\n",
    "model.fit(X_train, y_train)\n",
    "\n",
    "# Predict\n",
    "y_pred = model.predict(X_test)\n"
   ]
  },
  {
   "cell_type": "code",
   "execution_count": 7,
   "id": "c462f3d0-852a-46e8-8b9c-89a3c05008ac",
   "metadata": {},
   "outputs": [
    {
     "name": "stdout",
     "output_type": "stream",
     "text": [
      "🔹 Accuracy: 0.8231\n",
      "\n",
      "🔹 Classification Report:\n",
      "               precision    recall  f1-score   support\n",
      "\n",
      "           0       0.84      0.98      0.90      1528\n",
      "           1       0.26      0.04      0.07       224\n",
      "           2       0.00      0.00      0.00        85\n",
      "\n",
      "    accuracy                           0.82      1837\n",
      "   macro avg       0.36      0.34      0.32      1837\n",
      "weighted avg       0.73      0.82      0.76      1837\n",
      "\n",
      "\n",
      "🔹 Confusion Matrix:\n",
      " [[1503   20    5]\n",
      " [ 215    9    0]\n",
      " [  79    6    0]]\n"
     ]
    }
   ],
   "source": [
    "print(\"Accuracy:\", round(accuracy_score(y_test, y_pred), 4))\n",
    "print(\"\\nClassification Report:\\n\", classification_report(y_test, y_pred))\n",
    "print(\"\\nConfusion Matrix:\\n\", confusion_matrix(y_test, y_pred))\n"
   ]
  },
  {
   "cell_type": "code",
   "execution_count": 8,
   "id": "d83f06d6-2409-4d7a-8ea6-9bb0346add9d",
   "metadata": {},
   "outputs": [],
   "source": [
    "# Save for comparison\n",
    "results = {\n",
    "    \"Model\": \"RF w/ Lag Features\",\n",
    "    \"Accuracy\": accuracy_score(y_test, y_pred)\n",
    "}\n"
   ]
  },
  {
   "cell_type": "code",
   "execution_count": null,
   "id": "332defd1-5dd3-41f6-9ce4-c23a465f32c3",
   "metadata": {},
   "outputs": [],
   "source": []
  }
 ],
 "metadata": {
  "kernelspec": {
   "display_name": "Python 3 (ipykernel)",
   "language": "python",
   "name": "python3"
  },
  "language_info": {
   "codemirror_mode": {
    "name": "ipython",
    "version": 3
   },
   "file_extension": ".py",
   "mimetype": "text/x-python",
   "name": "python",
   "nbconvert_exporter": "python",
   "pygments_lexer": "ipython3",
   "version": "3.9.21"
  }
 },
 "nbformat": 4,
 "nbformat_minor": 5
}
